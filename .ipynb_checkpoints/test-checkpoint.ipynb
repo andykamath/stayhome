{
 "cells": [
  {
   "cell_type": "code",
   "execution_count": 1,
   "metadata": {},
   "outputs": [],
   "source": [
    "import requests\n",
    "import pandas as pd\n",
    "from matplotlib import pyplot as plt\n",
    "from datetime import datetime\n",
    "import numpy as np\n",
    "from scipy.optimize import curve_fit"
   ]
  },
  {
   "cell_type": "code",
   "execution_count": 2,
   "metadata": {},
   "outputs": [
    {
     "data": {
      "text/html": [
       "<div>\n",
       "<style scoped>\n",
       "    .dataframe tbody tr th:only-of-type {\n",
       "        vertical-align: middle;\n",
       "    }\n",
       "\n",
       "    .dataframe tbody tr th {\n",
       "        vertical-align: top;\n",
       "    }\n",
       "\n",
       "    .dataframe thead th {\n",
       "        text-align: right;\n",
       "    }\n",
       "</style>\n",
       "<table border=\"1\" class=\"dataframe\">\n",
       "  <thead>\n",
       "    <tr style=\"text-align: right;\">\n",
       "      <th></th>\n",
       "      <th>date</th>\n",
       "      <th>state</th>\n",
       "      <th>positive</th>\n",
       "      <th>negative</th>\n",
       "      <th>pending</th>\n",
       "      <th>hospitalized</th>\n",
       "      <th>death</th>\n",
       "      <th>total</th>\n",
       "      <th>dateChecked</th>\n",
       "    </tr>\n",
       "  </thead>\n",
       "  <tbody>\n",
       "    <tr>\n",
       "      <td>0</td>\n",
       "      <td>2020-03-24</td>\n",
       "      <td>AK</td>\n",
       "      <td>36.0</td>\n",
       "      <td>986.0</td>\n",
       "      <td>NaN</td>\n",
       "      <td>0.0</td>\n",
       "      <td>NaN</td>\n",
       "      <td>1022</td>\n",
       "      <td>2020-03-24 20:00:00+00:00</td>\n",
       "    </tr>\n",
       "    <tr>\n",
       "      <td>1</td>\n",
       "      <td>2020-03-24</td>\n",
       "      <td>AL</td>\n",
       "      <td>215.0</td>\n",
       "      <td>2106.0</td>\n",
       "      <td>NaN</td>\n",
       "      <td>NaN</td>\n",
       "      <td>0.0</td>\n",
       "      <td>2321</td>\n",
       "      <td>2020-03-24 20:00:00+00:00</td>\n",
       "    </tr>\n",
       "    <tr>\n",
       "      <td>2</td>\n",
       "      <td>2020-03-24</td>\n",
       "      <td>AR</td>\n",
       "      <td>218.0</td>\n",
       "      <td>947.0</td>\n",
       "      <td>0.0</td>\n",
       "      <td>22.0</td>\n",
       "      <td>0.0</td>\n",
       "      <td>1165</td>\n",
       "      <td>2020-03-24 20:00:00+00:00</td>\n",
       "    </tr>\n",
       "    <tr>\n",
       "      <td>3</td>\n",
       "      <td>2020-03-24</td>\n",
       "      <td>AS</td>\n",
       "      <td>0.0</td>\n",
       "      <td>NaN</td>\n",
       "      <td>NaN</td>\n",
       "      <td>NaN</td>\n",
       "      <td>0.0</td>\n",
       "      <td>0</td>\n",
       "      <td>2020-03-24 20:00:00+00:00</td>\n",
       "    </tr>\n",
       "    <tr>\n",
       "      <td>4</td>\n",
       "      <td>2020-03-24</td>\n",
       "      <td>AZ</td>\n",
       "      <td>357.0</td>\n",
       "      <td>313.0</td>\n",
       "      <td>22.0</td>\n",
       "      <td>8.0</td>\n",
       "      <td>5.0</td>\n",
       "      <td>692</td>\n",
       "      <td>2020-03-24 20:00:00+00:00</td>\n",
       "    </tr>\n",
       "    <tr>\n",
       "      <td>...</td>\n",
       "      <td>...</td>\n",
       "      <td>...</td>\n",
       "      <td>...</td>\n",
       "      <td>...</td>\n",
       "      <td>...</td>\n",
       "      <td>...</td>\n",
       "      <td>...</td>\n",
       "      <td>...</td>\n",
       "      <td>...</td>\n",
       "    </tr>\n",
       "    <tr>\n",
       "      <td>1032</td>\n",
       "      <td>2020-03-04</td>\n",
       "      <td>OR</td>\n",
       "      <td>3.0</td>\n",
       "      <td>29.0</td>\n",
       "      <td>18.0</td>\n",
       "      <td>NaN</td>\n",
       "      <td>NaN</td>\n",
       "      <td>50</td>\n",
       "      <td>2020-03-04 21:00:00+00:00</td>\n",
       "    </tr>\n",
       "    <tr>\n",
       "      <td>1033</td>\n",
       "      <td>2020-03-04</td>\n",
       "      <td>SC</td>\n",
       "      <td>0.0</td>\n",
       "      <td>5.0</td>\n",
       "      <td>0.0</td>\n",
       "      <td>NaN</td>\n",
       "      <td>NaN</td>\n",
       "      <td>5</td>\n",
       "      <td>2020-03-04 21:00:00+00:00</td>\n",
       "    </tr>\n",
       "    <tr>\n",
       "      <td>1034</td>\n",
       "      <td>2020-03-04</td>\n",
       "      <td>TX</td>\n",
       "      <td>1.0</td>\n",
       "      <td>NaN</td>\n",
       "      <td>NaN</td>\n",
       "      <td>NaN</td>\n",
       "      <td>NaN</td>\n",
       "      <td>1</td>\n",
       "      <td>2020-03-04 21:00:00+00:00</td>\n",
       "    </tr>\n",
       "    <tr>\n",
       "      <td>1035</td>\n",
       "      <td>2020-03-04</td>\n",
       "      <td>WA</td>\n",
       "      <td>39.0</td>\n",
       "      <td>NaN</td>\n",
       "      <td>NaN</td>\n",
       "      <td>NaN</td>\n",
       "      <td>NaN</td>\n",
       "      <td>39</td>\n",
       "      <td>2020-03-04 21:00:00+00:00</td>\n",
       "    </tr>\n",
       "    <tr>\n",
       "      <td>1036</td>\n",
       "      <td>2020-03-04</td>\n",
       "      <td>WI</td>\n",
       "      <td>1.0</td>\n",
       "      <td>19.0</td>\n",
       "      <td>6.0</td>\n",
       "      <td>NaN</td>\n",
       "      <td>NaN</td>\n",
       "      <td>26</td>\n",
       "      <td>2020-03-04 21:00:00+00:00</td>\n",
       "    </tr>\n",
       "  </tbody>\n",
       "</table>\n",
       "<p>1037 rows × 9 columns</p>\n",
       "</div>"
      ],
      "text/plain": [
       "           date state  positive  negative  pending  hospitalized  death  \\\n",
       "0    2020-03-24    AK      36.0     986.0      NaN           0.0    NaN   \n",
       "1    2020-03-24    AL     215.0    2106.0      NaN           NaN    0.0   \n",
       "2    2020-03-24    AR     218.0     947.0      0.0          22.0    0.0   \n",
       "3    2020-03-24    AS       0.0       NaN      NaN           NaN    0.0   \n",
       "4    2020-03-24    AZ     357.0     313.0     22.0           8.0    5.0   \n",
       "...         ...   ...       ...       ...      ...           ...    ...   \n",
       "1032 2020-03-04    OR       3.0      29.0     18.0           NaN    NaN   \n",
       "1033 2020-03-04    SC       0.0       5.0      0.0           NaN    NaN   \n",
       "1034 2020-03-04    TX       1.0       NaN      NaN           NaN    NaN   \n",
       "1035 2020-03-04    WA      39.0       NaN      NaN           NaN    NaN   \n",
       "1036 2020-03-04    WI       1.0      19.0      6.0           NaN    NaN   \n",
       "\n",
       "      total               dateChecked  \n",
       "0      1022 2020-03-24 20:00:00+00:00  \n",
       "1      2321 2020-03-24 20:00:00+00:00  \n",
       "2      1165 2020-03-24 20:00:00+00:00  \n",
       "3         0 2020-03-24 20:00:00+00:00  \n",
       "4       692 2020-03-24 20:00:00+00:00  \n",
       "...     ...                       ...  \n",
       "1032     50 2020-03-04 21:00:00+00:00  \n",
       "1033      5 2020-03-04 21:00:00+00:00  \n",
       "1034      1 2020-03-04 21:00:00+00:00  \n",
       "1035     39 2020-03-04 21:00:00+00:00  \n",
       "1036     26 2020-03-04 21:00:00+00:00  \n",
       "\n",
       "[1037 rows x 9 columns]"
      ]
     },
     "execution_count": 2,
     "metadata": {},
     "output_type": "execute_result"
    }
   ],
   "source": [
    "df = pd.DataFrame(requests.get('https://covidtracking.com/api/states/daily').json())\n",
    "df['dateChecked'] = pd.to_datetime(df['dateChecked'])\n",
    "df['date'] = list(map(str, df['date']))\n",
    "year, month, day = zip(*[list(map(int, (d[:4], d[4:6], d[6:]))) for d in df['date']])\n",
    "df['date'] = [datetime(y, m, d) for y, m, d in zip(year, month, day)]\n",
    "df"
   ]
  },
  {
   "cell_type": "code",
   "execution_count": 3,
   "metadata": {},
   "outputs": [
    {
     "data": {
      "text/plain": [
       "<matplotlib.axes._subplots.AxesSubplot at 0x11e635350>"
      ]
     },
     "execution_count": 3,
     "metadata": {},
     "output_type": "execute_result"
    },
    {
     "data": {
      "image/png": "[encoded data removed]",
      "text/plain": [
       "<Figure size 432x288 with 1 Axes>"
      ]
     },
     "metadata": {
      "needs_background": "light"
     },
     "output_type": "display_data"
    }
   ],
   "source": [
    "totals = df.groupby('date').agg('sum')\n",
    "totals.plot()"
   ]
  },
  {
   "cell_type": "code",
   "execution_count": 4,
   "metadata": {},
   "outputs": [
    {
     "name": "stdout",
     "output_type": "stream",
     "text": [
      "Base - 122.79979394486433 r0 - 1.3545784853528842\n"
     ]
    },
    {
     "name": "stderr",
     "output_type": "stream",
     "text": [
      "/Users/anirudhkamath/opt/anaconda3/lib/python3.7/site-packages/ipykernel_launcher.py:4: RuntimeWarning: divide by zero encountered in log\n",
      "  after removing the cwd from sys.path.\n"
     ]
    },
    {
     "data": {
      "text/plain": [
       "[<matplotlib.lines.Line2D at 0x1020ffce50>]"
      ]
     },
     "execution_count": 4,
     "metadata": {},
     "output_type": "execute_result"
    },
    {
     "data": {
      "image/png": "[encoded data removed]",
      "text/plain": [
       "<Figure size 432x288 with 1 Axes>"
      ]
     },
     "metadata": {
      "needs_background": "light"
     },
     "output_type": "display_data"
    }
   ],
   "source": [
    "x_data = np.arange(0, len(totals))\n",
    "y_data = np.array(totals['positive'])\n",
    "\n",
    "log_x_data = np.log(x_data)\n",
    "log_y_data = np.log(y_data)\n",
    "\n",
    "exp, coeff = np.polyfit(x_data, log_y_data, 1)\n",
    "\n",
    "y = np.exp(coeff) * np.exp(exp)**x_data\n",
    "print(\"Base -\", np.exp(coeff), \"r0 -\", np.exp(exp))\n",
    "\n",
    "plt.plot(x_data, y_data, \"o\")\n",
    "plt.plot(x_data, y)"
   ]
  },
  {
   "cell_type": "code",
   "execution_count": 7,
   "metadata": {},
   "outputs": [
    {
     "name": "stdout",
     "output_type": "stream",
     "text": [
      "0 0.0\n",
      "1 0.0\n",
      "2 2.842170943040401e-14\n",
      "3 0.0\n",
      "4 5.684341886080802e-14\n",
      "5 1.1368683772161603e-13\n",
      "6 13.545784853528858\n",
      "7 18.34882872980927\n",
      "8 24.85492862882461\n",
      "9 33.66795157558727\n",
      "10 45.60588285019321\n",
      "11 61.77674771439615\n",
      "12 83.68145334899327\n",
      "13 113.35309632960707\n",
      "14 153.54566553621953\n",
      "15 207.9896550545527\n",
      "16 281.73831191286445\n",
      "17 381.6366558168047\n",
      "18 516.9568031914678\n",
      "19 700.2585634599673\n",
      "20 948.5551842469868\n"
     ]
    },
    {
     "data": {
      "text/plain": [
       "[<matplotlib.lines.Line2D at 0x1021346f10>]"
      ]
     },
     "execution_count": 7,
     "metadata": {},
     "output_type": "execute_result"
    },
    {
     "data": {
      "image/png": "[encoded data removed]",
      "text/plain": [
       "<Figure size 432x288 with 1 Axes>"
      ]
     },
     "metadata": {
      "needs_background": "light"
     },
     "output_type": "display_data"
    }
   ],
   "source": [
    "vals = []\n",
    "total = np.exp(coeff)\n",
    "for i, val in enumerate(totals['positive']):\n",
    "#     print(i, val)\n",
    "    print(i, np.exp(coeff) * np.exp(exp)**(i) - total)\n",
    "    if i == 5:\n",
    "        total -= 10\n",
    "    total *= np.exp(exp)\n",
    "    vals.append(total)\n",
    "#     total += np.exp(coeff) * np.exp(exp)\n",
    "y = np.exp(coeff) * np.exp(exp)**x_data\n",
    "plt.plot(x_data, y)\n",
    "plt.plot(x_data, vals)"
   ]
  },
  {
   "cell_type": "code",
   "execution_count": null,
   "metadata": {},
   "outputs": [],
   "source": []
  }
 ],
 "metadata": {
  "kernelspec": {
   "display_name": "Python 3",
   "language": "python",
   "name": "python3"
  },
  "language_info": {
   "codemirror_mode": {
    "name": "ipython",
    "version": 3
   },
   "file_extension": ".py",
   "mimetype": "text/x-python",
   "name": "python",
   "nbconvert_exporter": "python",
   "pygments_lexer": "ipython3",
   "version": "3.7.4"
  }
 },
 "nbformat": 4,
 "nbformat_minor": 1
}
